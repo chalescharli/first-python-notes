{
 "cells": [
  {
   "attachments": {},
   "cell_type": "markdown",
   "metadata": {},
   "source": [
    "CHAPTER :- 5........................ NUMPY"
   ]
  },
  {
   "attachments": {},
   "cell_type": "markdown",
   "metadata": {},
   "source": [
    "NUMPY:::--- NumPy is a Python library used for working with arrays."
   ]
  },
  {
   "cell_type": "code",
   "execution_count": 2,
   "metadata": {},
   "outputs": [
    {
     "ename": "ModuleNotFoundError",
     "evalue": "No module named 'numpy'",
     "output_type": "error",
     "traceback": [
      "\u001b[1;31m---------------------------------------------------------------------------\u001b[0m",
      "\u001b[1;31mModuleNotFoundError\u001b[0m                       Traceback (most recent call last)",
      "Cell \u001b[1;32mIn[2], line 1\u001b[0m\n\u001b[1;32m----> 1\u001b[0m \u001b[39mimport\u001b[39;00m \u001b[39mnumpy\u001b[39;00m \u001b[39mas\u001b[39;00m \u001b[39mnp\u001b[39;00m\n\u001b[0;32m      2\u001b[0m distance \u001b[39m=\u001b[39m [\u001b[39m50\u001b[39m,\u001b[39m60\u001b[39m,\u001b[39m40\u001b[39m]\n\u001b[0;32m      3\u001b[0m speed \u001b[39m=\u001b[39m [\u001b[39m40\u001b[39m,\u001b[39m30\u001b[39m,\u001b[39m20\u001b[39m]\n",
      "\u001b[1;31mModuleNotFoundError\u001b[0m: No module named 'numpy'"
     ]
    }
   ],
   "source": [
    "import numpy as np\n",
    "distance = [50,60,40]\n",
    "speed = [40,30,20]\n",
    "dis = np.array(distance)\n",
    "sp = np.array(speed)\n",
    "time = dis/sp\n",
    "print (time)"
   ]
  },
  {
   "attachments": {},
   "cell_type": "markdown",
   "metadata": {},
   "source": [
    "NUMPY ARRAY ATTRIBUTEA:::--\n",
    "\n",
    "(ndim) :- no. of dimensons , \n",
    "(shape) :- size of each dimension ,\n",
    "(size) :-  total size of dimension"
   ]
  },
  {
   "cell_type": "code",
   "execution_count": null,
   "metadata": {},
   "outputs": [
    {
     "name": "stdout",
     "output_type": "stream",
     "text": [
      "[1.25 2.   2.  ]\n",
      "no.of dimension:- 1\n",
      "no.of  each dimension:- (3,)\n",
      "no.of  total dimension:-  3\n"
     ]
    }
   ],
   "source": [
    "import numpy as np\n",
    "distance = [50,60,40]\n",
    "speed = [40,30,20]\n",
    "dis = np.array(distance)\n",
    "sp = np.array(speed)\n",
    "time = dis/sp\n",
    "print (time)\n",
    "print(\"no.of dimension:-\", time.ndim)\n",
    "print(\"no.of  each dimension:-\", time.shape)\n",
    "print(\"no.of  total dimension:- \", time.size)\n",
    "\n"
   ]
  },
  {
   "cell_type": "code",
   "execution_count": null,
   "metadata": {},
   "outputs": [
    {
     "name": "stdout",
     "output_type": "stream",
     "text": [
      "the finall value of a is:-\n",
      " [ 0  5 10 15 20 25 30 35 40 45 50 55 60 65 70 75 80 85 90 95]\n",
      "second element of the array:-\n",
      " 5\n",
      "last element of the array:-\n",
      " 95\n",
      "first element of the array:-\n",
      " 0\n"
     ]
    }
   ],
   "source": [
    "# randint():-  it is used for return random integer \n",
    "# numpy arrange():- it is use for arrange the elemnt of the array\n",
    "#  np.random():- it is use for choose random number in array\n",
    "\n",
    "\n",
    "# np.arange()\n",
    "\n",
    "a = [10,20,30,40,50,60,70,80,90,100]\n",
    "a = np.arange(0,100,5)\n",
    "\n",
    "# np.random\n",
    "\n",
    "print(\"the finall value of a is:-\\n\",a)\n",
    "print(\"second element of the array:-\\n\",a[1])\n",
    "print(\"last element of the array:-\\n\",a[-1])\n",
    "print(\"first element of the array:-\\n\",a[0])\n"
   ]
  },
  {
   "cell_type": "code",
   "execution_count": null,
   "metadata": {},
   "outputs": [
    {
     "data": {
      "text/plain": [
       "array([12, 33, 45, 67, 45, 66, 78, 90])"
      ]
     },
     "execution_count": 81,
     "metadata": {},
     "output_type": "execute_result"
    }
   ],
   "source": [
    "#  ARRAY CONCATENATION:-they have three methods np.concatenate(), np.vstack(), np.hstack().\n",
    "\n",
    "# np. concatenate()\n",
    "\n",
    "x = np.array([12,33,45,67])\n",
    "y = np.array([45,66,78,90])\n",
    "np.concatenate([x,y])"
   ]
  },
  {
   "cell_type": "code",
   "execution_count": null,
   "metadata": {},
   "outputs": [
    {
     "data": {
      "text/plain": [
       "array([[45, 66, 78, 90],\n",
       "       [12, 22, 33, 44],\n",
       "       [34, 45, 67, 89]])"
      ]
     },
     "execution_count": 82,
     "metadata": {},
     "output_type": "execute_result"
    }
   ],
   "source": [
    "# np.vstack()\n",
    "\n",
    "y = np.array([45,66,78,90])\n",
    "grid= np.array([[12,22,33,44],\n",
    "             [34,45,67,89]])\n",
    "np.vstack([y,grid])\n"
   ]
  },
  {
   "cell_type": "code",
   "execution_count": null,
   "metadata": {},
   "outputs": [
    {
     "data": {
      "text/plain": [
       "array([[12, 22, 33, 44, 12],\n",
       "       [34, 45, 67, 89, 34]])"
      ]
     },
     "execution_count": 83,
     "metadata": {},
     "output_type": "execute_result"
    }
   ],
   "source": [
    "# np.hstack()\n",
    "\n",
    "grid= np.array([[12,22,33,44],\n",
    "             [34,45,67,89]])\n",
    "y= np.array([[12],\n",
    "             [34]])\n",
    "np.hstack([grid,y])"
   ]
  },
  {
   "attachments": {},
   "cell_type": "markdown",
   "metadata": {},
   "source": [
    "CHAPTER :- 6..............PANDAS AND DATAFRAME..........."
   ]
  },
  {
   "cell_type": "code",
   "execution_count": null,
   "metadata": {},
   "outputs": [
    {
     "name": "stdout",
     "output_type": "stream",
     "text": [
      "the value of empty series is Series([], dtype: float64)\n",
      " the value of y is :- \n",
      " 0      10\n",
      "1      20\n",
      "2      33\n",
      "3      45\n",
      "4       6\n",
      "5    6767\n",
      "6    7686\n",
      "dtype: int64\n",
      " the value of y is  :- \n",
      " a      10\n",
      "b      20\n",
      "c      33\n",
      "d      45\n",
      "e       6\n",
      "f    6767\n",
      "g    7686\n",
      "dtype: int64\n",
      " adding 5 number in y:- \n",
      "  a      15\n",
      "b      25\n",
      "c      38\n",
      "d      50\n",
      "e      11\n",
      "f    6772\n",
      "g    7691\n",
      "dtype: int64\n",
      " greater then 30 :- \n",
      " a    False\n",
      "b    False\n",
      "c     True\n",
      "d     True\n",
      "e    False\n",
      "f     True\n",
      "g     True\n",
      "dtype: bool\n"
     ]
    },
    {
     "name": "stderr",
     "output_type": "stream",
     "text": [
      "/tmp/ipykernel_5130/1864039395.py:10: FutureWarning: The default dtype for empty Series will be 'object' instead of 'float64' in a future version. Specify a dtype explicitly to silence this warning.\n",
      "  x = pd.Series()\n"
     ]
    }
   ],
   "source": [
    "# in pandas they have two main data structure \n",
    "\n",
    "# 1. SERIES:- A Pandas Series is like a column in a table.It is a one-dimensional array holding data of any type.\n",
    "\n",
    "# 2. DATAFRAME:- A Pandas DataFrame is a 2 dimensional data structure, like a 2 dimensional array, or a table with rows and columns.\n",
    "\n",
    "import pandas as pd\n",
    "import numpy as np\n",
    "\n",
    "x = pd.Series()\n",
    "print(\"the value of empty series is\",x)\n",
    "\n",
    "y = pd.Series([10,20,33,45,6,6767,7686])\n",
    "print(\" the value of y is :- \\n\",y)\n",
    "\n",
    "\n",
    "y = pd.Series([10,20,33,45,6,6767,7686] , ['a','b','c','d','e','f','g'])\n",
    "\n",
    "# Data manipulation\n",
    "\n",
    "\n",
    "print(\" the value of y is  :- \\n\", y)\n",
    "print(\" adding 5 number in y:- \\n \" , y+5)\n",
    "print(\" greater then 30 :- \\n\" , y > 30)"
   ]
  },
  {
   "cell_type": "code",
   "execution_count": null,
   "metadata": {},
   "outputs": [
    {
     "name": "stdout",
     "output_type": "stream",
     "text": [
      "the value of a is :- \n",
      "  rishi     1\n",
      "raj       2\n",
      "singh     3\n",
      "rajput    4\n",
      "dtype: int64\n"
     ]
    }
   ],
   "source": [
    "import pandas as pd\n",
    "a= pd.Series({'rishi' : 1  , 'raj' : 2 , 'singh' : 3 , 'rajput' : 4})\n",
    "print(\"the value of a is :- \\n \" ,a )\n",
    "# pd.Series(a)\n"
   ]
  },
  {
   "cell_type": "code",
   "execution_count": null,
   "metadata": {},
   "outputs": [
    {
     "name": "stdout",
     "output_type": "stream",
     "text": [
      "a    10\n",
      "b    30\n",
      "c    40\n",
      "d    50\n",
      "dtype: int64\n",
      " adding the number in series :\n",
      " a    110\n",
      "b    130\n",
      "c    140\n",
      "d    150\n",
      "dtype: int64\n",
      "filter the series which is greater then 25:\n",
      " b    30\n",
      "c    40\n",
      "d    50\n",
      "dtype: int64\n",
      "the square root of series is :-\n",
      " a    3.162278\n",
      "b    5.477226\n",
      "c    6.324555\n",
      "d    7.071068\n",
      "dtype: float64\n"
     ]
    }
   ],
   "source": [
    "import pandas as pd\n",
    "import numpy as np\n",
    "Series = pd.Series([10,30,40,50] , index = ['a','b','c','d'])\n",
    "print(Series)\n",
    "# WE WILL USE THE SERRIES IN NUMPY AND PANDAS IS I THIS WAY \n",
    "Series['b']\n",
    "print(\" adding the number in series :\\n\" , Series+100)\n",
    "print(\"filter the series which is greater then 25:\\n\",Series[Series>25])\n",
    "# WE WILL FIND THE SQUARE IN PANDAS BY USING \"sqrt\" FUCNTION \n",
    "print(\"the square root of series is :-\\n\" ,np.sqrt(Series))"
   ]
  },
  {
   "cell_type": "code",
   "execution_count": null,
   "metadata": {},
   "outputs": [
    {
     "data": {
      "text/html": [
       "<div>\n",
       "<style scoped>\n",
       "    .dataframe tbody tr th:only-of-type {\n",
       "        vertical-align: middle;\n",
       "    }\n",
       "\n",
       "    .dataframe tbody tr th {\n",
       "        vertical-align: top;\n",
       "    }\n",
       "\n",
       "    .dataframe thead th {\n",
       "        text-align: right;\n",
       "    }\n",
       "</style>\n",
       "<table border=\"1\" class=\"dataframe\">\n",
       "  <thead>\n",
       "    <tr style=\"text-align: right;\">\n",
       "      <th></th>\n",
       "      <th>Name</th>\n",
       "      <th>Age</th>\n",
       "      <th>Year</th>\n",
       "    </tr>\n",
       "  </thead>\n",
       "  <tbody>\n",
       "    <tr>\n",
       "      <th>0</th>\n",
       "      <td>Rishi</td>\n",
       "      <td>10</td>\n",
       "      <td>2002</td>\n",
       "    </tr>\n",
       "    <tr>\n",
       "      <th>1</th>\n",
       "      <td>Manavi</td>\n",
       "      <td>12</td>\n",
       "      <td>2003</td>\n",
       "    </tr>\n",
       "    <tr>\n",
       "      <th>2</th>\n",
       "      <td>Aman</td>\n",
       "      <td>30</td>\n",
       "      <td>2004</td>\n",
       "    </tr>\n",
       "    <tr>\n",
       "      <th>3</th>\n",
       "      <td>Nainisha</td>\n",
       "      <td>19</td>\n",
       "      <td>2003</td>\n",
       "    </tr>\n",
       "  </tbody>\n",
       "</table>\n",
       "</div>"
      ],
      "text/plain": [
       "       Name Age  Year\n",
       "0     Rishi  10  2002\n",
       "1    Manavi  12  2003\n",
       "2      Aman  30  2004\n",
       "3  Nainisha  19  2003"
      ]
     },
     "execution_count": 87,
     "metadata": {},
     "output_type": "execute_result"
    }
   ],
   "source": [
    "import pandas as pd\n",
    "data = [['Rishi','10','2002'],['Manavi','12','2003'],['Aman','30','2004'],['Nainisha','19','2003']]\n",
    "dt = pd.DataFrame(data,columns=['Name','Age','Year'])\n",
    "dt"
   ]
  },
  {
   "cell_type": "code",
   "execution_count": null,
   "metadata": {},
   "outputs": [
    {
     "data": {
      "text/plain": [
       "0       Rishi\n",
       "1      Manavi\n",
       "2        Aman\n",
       "3    Nainisha\n",
       "Name: Name, dtype: object"
      ]
     },
     "execution_count": 88,
     "metadata": {},
     "output_type": "execute_result"
    }
   ],
   "source": [
    "import pandas as pd\n",
    "data = [['Rishi','10','2002'],['Manavi','12','2003'],['Aman','30','2004'],['Nainisha','19','2003']]\n",
    "dt = pd.DataFrame(data,columns=['Name','Age','Year'])\n",
    "dt['Name']"
   ]
  },
  {
   "cell_type": "code",
   "execution_count": null,
   "metadata": {},
   "outputs": [
    {
     "data": {
      "text/plain": [
       "0    10\n",
       "1    12\n",
       "2    30\n",
       "3    19\n",
       "Name: Age, dtype: object"
      ]
     },
     "execution_count": 89,
     "metadata": {},
     "output_type": "execute_result"
    }
   ],
   "source": [
    "import pandas as pd\n",
    "data = [['Rishi','10','2002'],['Manavi','12','2003'],['Aman','30','2004'],['Nainisha','19','2003']]\n",
    "dt = pd.DataFrame(data,columns=['Name','Age','Year'])\n",
    "dt['Age']"
   ]
  },
  {
   "cell_type": "code",
   "execution_count": null,
   "metadata": {},
   "outputs": [
    {
     "data": {
      "text/html": [
       "<div>\n",
       "<style scoped>\n",
       "    .dataframe tbody tr th:only-of-type {\n",
       "        vertical-align: middle;\n",
       "    }\n",
       "\n",
       "    .dataframe tbody tr th {\n",
       "        vertical-align: top;\n",
       "    }\n",
       "\n",
       "    .dataframe thead th {\n",
       "        text-align: right;\n",
       "    }\n",
       "</style>\n",
       "<table border=\"1\" class=\"dataframe\">\n",
       "  <thead>\n",
       "    <tr style=\"text-align: right;\">\n",
       "      <th></th>\n",
       "      <th>Name</th>\n",
       "      <th>Age</th>\n",
       "      <th>Year</th>\n",
       "    </tr>\n",
       "  </thead>\n",
       "  <tbody>\n",
       "    <tr>\n",
       "      <th>0</th>\n",
       "      <td>Rishi</td>\n",
       "      <td>10</td>\n",
       "      <td>2002</td>\n",
       "    </tr>\n",
       "    <tr>\n",
       "      <th>1</th>\n",
       "      <td>Manavi</td>\n",
       "      <td>12</td>\n",
       "      <td>2003</td>\n",
       "    </tr>\n",
       "    <tr>\n",
       "      <th>2</th>\n",
       "      <td>Aman</td>\n",
       "      <td>30</td>\n",
       "      <td>2004</td>\n",
       "    </tr>\n",
       "    <tr>\n",
       "      <th>3</th>\n",
       "      <td>Nainisha</td>\n",
       "      <td>19</td>\n",
       "      <td>2003</td>\n",
       "    </tr>\n",
       "  </tbody>\n",
       "</table>\n",
       "</div>"
      ],
      "text/plain": [
       "       Name Age  Year\n",
       "0     Rishi  10  2002\n",
       "1    Manavi  12  2003\n",
       "2      Aman  30  2004\n",
       "3  Nainisha  19  2003"
      ]
     },
     "execution_count": 90,
     "metadata": {},
     "output_type": "execute_result"
    }
   ],
   "source": [
    "import pandas as pd\n",
    "data = [['Rishi','10','2002'],['Manavi','12','2003'],['Aman','30','2004'],['Nainisha','19','2003']]\n",
    "dt = pd.DataFrame(data,columns=['Name','Age','Year'])\n",
    "dt['Year']\n",
    "dt"
   ]
  },
  {
   "cell_type": "code",
   "execution_count": null,
   "metadata": {},
   "outputs": [
    {
     "name": "stdout",
     "output_type": "stream",
     "text": [
      "original dataframe:\n",
      "        Name Age  Year\n",
      "0     Rishi  10  2002\n",
      "1    Manavi  12  2003\n",
      "2      Aman  30  2004\n",
      "3  Nainisha  19  2003\n",
      "original dataframe:\n",
      "        Name Age\n",
      "0     Rishi  10\n",
      "1    Manavi  12\n",
      "2      Aman  30\n",
      "3  Nainisha  19\n",
      "original dataframe:\n",
      "        Name\n",
      "0     Rishi\n",
      "1    Manavi\n",
      "2      Aman\n",
      "3  Nainisha\n",
      "original dataframe:\n",
      " Empty DataFrame\n",
      "Columns: []\n",
      "Index: [0, 1, 2, 3]\n"
     ]
    }
   ],
   "source": [
    "# import pandas as pd\n",
    "# data = [['Rishi','10','2002'],['Manavi','12','2003'],['Aman','30','2004'],['Nainisha','19','2003']]\n",
    "# dt = pd.DataFrame(data,columns=['Name','Age','Year'])\n",
    "print(\"original dataframe:\\n\",dt)\n",
    "del dt['Year']\n",
    "print(\"original dataframe:\\n\",dt)\n",
    "del dt['Age']\n",
    "print(\"original dataframe:\\n\",dt)\n",
    "del dt['Name']\n",
    "print(\"original dataframe:\\n\",dt)"
   ]
  },
  {
   "attachments": {},
   "cell_type": "markdown",
   "metadata": {},
   "source": [
    ".loc() :-  in loc() method we have to pass the name of the row/column which we want to select.\n",
    "\n",
    ".iloc():-  in iloc() method we have to pass an integer index in the method to select a specific row/column. \n"
   ]
  },
  {
   "attachments": {},
   "cell_type": "markdown",
   "metadata": {},
   "source": [
    "<!-- The Pandas loc indexer can be used with DataFrames for two different use cases:\n",
    "\n",
    "a.) Selecting rows by label/index\n",
    "b.) Selecting rows with a boolean / conditional lookup -->\n"
   ]
  },
  {
   "cell_type": "code",
   "execution_count": null,
   "metadata": {},
   "outputs": [
    {
     "data": {
      "text/html": [
       "<div>\n",
       "<style scoped>\n",
       "    .dataframe tbody tr th:only-of-type {\n",
       "        vertical-align: middle;\n",
       "    }\n",
       "\n",
       "    .dataframe tbody tr th {\n",
       "        vertical-align: top;\n",
       "    }\n",
       "\n",
       "    .dataframe thead th {\n",
       "        text-align: right;\n",
       "    }\n",
       "</style>\n",
       "<table border=\"1\" class=\"dataframe\">\n",
       "  <thead>\n",
       "    <tr style=\"text-align: right;\">\n",
       "      <th></th>\n",
       "      <th>share</th>\n",
       "      <th>company</th>\n",
       "      <th>ticker</th>\n",
       "    </tr>\n",
       "  </thead>\n",
       "  <tbody>\n",
       "    <tr>\n",
       "      <th>0</th>\n",
       "      <td>183</td>\n",
       "      <td>APPLE</td>\n",
       "      <td>APPL</td>\n",
       "    </tr>\n",
       "    <tr>\n",
       "      <th>1</th>\n",
       "      <td>259</td>\n",
       "      <td>TESLA</td>\n",
       "      <td>TXL</td>\n",
       "    </tr>\n",
       "    <tr>\n",
       "      <th>2</th>\n",
       "      <td>424</td>\n",
       "      <td>SAMSUNG</td>\n",
       "      <td>SMS</td>\n",
       "    </tr>\n",
       "    <tr>\n",
       "      <th>3</th>\n",
       "      <td>4365</td>\n",
       "      <td>TATA</td>\n",
       "      <td>TATA</td>\n",
       "    </tr>\n",
       "    <tr>\n",
       "      <th>4</th>\n",
       "      <td>473</td>\n",
       "      <td>EURUSD</td>\n",
       "      <td>EU</td>\n",
       "    </tr>\n",
       "    <tr>\n",
       "      <th>5</th>\n",
       "      <td>789</td>\n",
       "      <td>XURUSD</td>\n",
       "      <td>XU</td>\n",
       "    </tr>\n",
       "    <tr>\n",
       "      <th>6</th>\n",
       "      <td>1234</td>\n",
       "      <td>ITC</td>\n",
       "      <td>IC</td>\n",
       "    </tr>\n",
       "    <tr>\n",
       "      <th>7</th>\n",
       "      <td>894</td>\n",
       "      <td>SONATA</td>\n",
       "      <td>SNT</td>\n",
       "    </tr>\n",
       "  </tbody>\n",
       "</table>\n",
       "</div>"
      ],
      "text/plain": [
       "   share  company ticker\n",
       "0    183    APPLE   APPL\n",
       "1    259    TESLA    TXL\n",
       "2    424  SAMSUNG    SMS\n",
       "3   4365     TATA   TATA\n",
       "4    473   EURUSD     EU\n",
       "5    789   XURUSD     XU\n",
       "6   1234      ITC     IC\n",
       "7    894   SONATA    SNT"
      ]
     },
     "execution_count": 92,
     "metadata": {},
     "output_type": "execute_result"
    }
   ],
   "source": [
    "import pandas as pd\n",
    "data = pd.DataFrame({'share':[183, 259 , 424 , 4365 ,473,789,1234,894],\n",
    "                    'company':['APPLE', 'TESLA','SAMSUNG','TATA','EURUSD','XURUSD','ITC','SONATA'],\n",
    "                    'ticker':['APPL','TXL','SMS','TATA','EU','XU','IC','SNT']})\n",
    "data"
   ]
  },
  {
   "cell_type": "code",
   "execution_count": null,
   "metadata": {},
   "outputs": [
    {
     "name": "stdout",
     "output_type": "stream",
     "text": [
      "473\n",
      "EU\n"
     ]
    }
   ],
   "source": [
    "print(data.loc[4]['share']) #....{IN THIS WE WILL USE .LOC[] METHODS AND IS CALL  ONLY ROWS }\n",
    "print(data.loc[4][2]) #.....{IN THIS WE WILL USE .ILOC[]  METHODS AND IT CALL COLUMNS ONLY}"
   ]
  },
  {
   "cell_type": "code",
   "execution_count": null,
   "metadata": {},
   "outputs": [
    {
     "name": "stdout",
     "output_type": "stream",
     "text": [
      "top rows in our chart is :\n",
      "    share  company ticker\n",
      "0    183    APPLE   APPL\n",
      "1    259    TESLA    TXL\n",
      "2    424  SAMSUNG    SMS\n",
      "3   4365     TATA   TATA\n",
      "4    473   EURUSD     EU\n",
      "below rows in our chart is:\n",
      "    share company ticker\n",
      "3   4365    TATA   TATA\n",
      "4    473  EURUSD     EU\n",
      "5    789  XURUSD     XU\n",
      "6   1234     ITC     IC\n",
      "7    894  SONATA    SNT\n"
     ]
    }
   ],
   "source": [
    "# data.head()  is use for inspect top 5 rows in dataframe\n",
    "# data.tail()  is use for inspect below 5 rows in datafream\n",
    "\n",
    "print(\"top rows in our chart is :\\n\" ,data.head())\n",
    "\n",
    "print(\"below rows in our chart is:\\n\",data.tail())\n",
    "\n"
   ]
  },
  {
   "cell_type": "code",
   "execution_count": null,
   "metadata": {},
   "outputs": [
    {
     "name": "stdout",
     "output_type": "stream",
     "text": [
      "<class 'pandas.core.frame.DataFrame'>\n",
      "RangeIndex: 8 entries, 0 to 7\n",
      "Data columns (total 3 columns):\n",
      " #   Column   Non-Null Count  Dtype \n",
      "---  ------   --------------  ----- \n",
      " 0   share    8 non-null      int64 \n",
      " 1   company  8 non-null      object\n",
      " 2   ticker   8 non-null      object\n",
      "dtypes: int64(1), object(2)\n",
      "memory usage: 324.0+ bytes\n"
     ]
    }
   ],
   "source": [
    "# dtypes() is use for check for each columns\n",
    "data.dtypes\n",
    "\n",
    "# .describe() is use for statistics\n",
    "data.describe()\n",
    "\n",
    "# .info() is use for  chack information of your data including column data type and non-null valuse and how much memory will used\n",
    "data.info()"
   ]
  }
 ],
 "metadata": {
  "kernelspec": {
   "display_name": "Python 3",
   "language": "python",
   "name": "python3"
  },
  "language_info": {
   "codemirror_mode": {
    "name": "ipython",
    "version": 3
   },
   "file_extension": ".py",
   "mimetype": "text/x-python",
   "name": "python",
   "nbconvert_exporter": "python",
   "pygments_lexer": "ipython3",
   "version": "3.11.4"
  },
  "orig_nbformat": 4
 },
 "nbformat": 4,
 "nbformat_minor": 2
}
